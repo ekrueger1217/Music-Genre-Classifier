{
 "cells": [
  {
   "cell_type": "code",
   "execution_count": 1,
   "id": "7f45a095-4995-4544-9919-796c203a8b0f",
   "metadata": {},
   "outputs": [],
   "source": [
    "#import relevant packages\n",
    "import pandas as pd\n",
    "import numpy as np\n",
    "from scipy import stats\n",
    "\n",
    "import matplotlib.pyplot as plt\n",
    "import seaborn as sns\n",
    "%matplotlib inline \n",
    "\n",
    "from sklearn.preprocessing import StandardScaler\n",
    "from sklearn.preprocessing import OneHotEncoder\n",
    "from sklearn.linear_model import LogisticRegression\n",
    "from sklearn.tree import DecisionTreeClassifier, plot_tree\n",
    "from sklearn.model_selection import train_test_split\n",
    "from sklearn.metrics import accuracy_score, recall_score, precision_score, f1_score\n",
    "from sklearn.metrics import ConfusionMatrixDisplay\n",
    "from sklearn.metrics import roc_auc_score\n",
    "from sklearn.metrics import roc_curve,RocCurveDisplay\n",
    "from sklearn.model_selection import cross_validate\n",
    "from sklearn.linear_model import Ridge\n",
    "from sklearn.model_selection import KFold\n",
    "from sklearn.ensemble import RandomForestClassifier\n",
    "from sklearn.model_selection import train_test_split, GridSearchCV, RandomizedSearchCV \n",
    "from sklearn.model_selection import cross_val_score, StratifiedKFold\n",
    "from sklearn.feature_extraction.text import TfidfVectorizer, CountVectorizer\n",
    "from sklearn.feature_selection import SelectKBest, f_classif\n",
    "from sklearn.svm import LinearSVC\n",
    "from sklearn.naive_bayes import MultinomialNB\n",
    "from imblearn.over_sampling import SMOTE\n",
    "\n",
    "import itertools\n",
    "from collections import Counter\n",
    "import re\n",
    "\n",
    "from keras.layers import Input, Dense, LSTM, Embedding, Dropout, Activation, Bidirectional, GlobalMaxPool1D, Flatten\n",
    "from keras.models import Sequential\n",
    "from keras import initializers, regularizers, constraints, optimizers, layers\n",
    "import tensorflow\n",
    "from tensorflow.keras.utils import to_categorical\n",
    "from tensorflow.keras.layers import Conv2D # convolution layer\n",
    "from tensorflow.keras.layers import MaxPooling2D # max pooling layer\n",
    "\n",
    "from PIL import Image\n",
    "import os"
   ]
  },
  {
   "cell_type": "code",
   "execution_count": 2,
   "id": "9edffa5b-daa9-40db-ac1d-278a30e0014e",
   "metadata": {},
   "outputs": [],
   "source": [
    "#set a seed to use for random_state inputs for reproducability\n",
    "SEED = 42"
   ]
  },
  {
   "cell_type": "markdown",
   "id": "7edd46db-0a69-4b92-bba5-49b3e4880812",
   "metadata": {},
   "source": [
    "## Import Data"
   ]
  },
  {
   "cell_type": "code",
   "execution_count": 3,
   "id": "0db30a36-10fd-40c4-9683-a743876a11ff",
   "metadata": {},
   "outputs": [],
   "source": [
    "#Please refer to the 'Audio_Pull' notebook to see how dataset was compiled from the public AudioSet data \n",
    "#and how audio clips were downloaded\n",
    "#Please refer to the 'Spectrogram_Build' notebook to see how spectrograms were created"
   ]
  },
  {
   "cell_type": "code",
   "execution_count": 4,
   "id": "0c201761-59a3-494d-8b64-d9ac4471fac6",
   "metadata": {},
   "outputs": [],
   "source": [
    "#In downloading audio and creating spectrograms, some files resulted in an empty audio file and blank, white spetrogram\n",
    "#This function is designed to filter out any empyty/blank data points\n",
    "def is_blank_image(image, threshold=0.99):\n",
    "    # Convert the image to a NumPy array\n",
    "    image_array = np.array(image)\n",
    "    # Calculate the mean pixel value\n",
    "    mean_pixel_value = np.mean(image_array)\n",
    "    # Check if the mean pixel value is below the threshold\n",
    "    return mean_pixel_value > threshold\n",
    "\n"
   ]
  },
  {
   "cell_type": "code",
   "execution_count": 6,
   "id": "3ca0688a-5767-4f68-ac1c-00c1174b9c9e",
   "metadata": {},
   "outputs": [],
   "source": [
    "#Import images\n",
    "image_folder_128 = 'spectrograms-128'\n",
    "image_files = [file for file in os.listdir(image_folder_128) if file.lower().endswith(('.png'))]\n",
    "\n",
    "\n",
    "genres = []\n",
    "images = []\n",
    "\n",
    "for file in image_files:\n",
    "    image = Image.open(os.path.join(image_folder_128, file)).resize((64, 64))\n",
    "    image = np.array(image) / 255\n",
    "    \n",
    "    # Check if the image is mostly blank and skip it if it is\n",
    "    if not is_blank_image(image):\n",
    "        images.append(image)\n",
    "        # Extract genre label from the file name\n",
    "        genre_label = file.split('_')[0]\n",
    "        genres.append(genre_label)"
   ]
  },
  {
   "cell_type": "code",
   "execution_count": 7,
   "id": "c8aca4ed-c5cd-44fa-ac8b-17254ee12756",
   "metadata": {},
   "outputs": [
    {
     "data": {
      "text/plain": [
       "<matplotlib.image.AxesImage at 0x1624515d0>"
      ]
     },
     "execution_count": 7,
     "metadata": {},
     "output_type": "execute_result"
    },
    {
     "data": {
      "image/png": "[encoded data removed]",
      "text/plain": [
       "<Figure size 640x480 with 1 Axes>"
      ]
     },
     "metadata": {},
     "output_type": "display_data"
    }
   ],
   "source": [
    "plt.imshow(images[100])"
   ]
  },
  {
   "cell_type": "code",
   "execution_count": 8,
   "id": "3805c807-f1d3-4415-8376-8bcfc81405b5",
   "metadata": {},
   "outputs": [
    {
     "data": {
      "text/plain": [
       "8085"
      ]
     },
     "execution_count": 8,
     "metadata": {},
     "output_type": "execute_result"
    }
   ],
   "source": [
    "len(genres)"
   ]
  },
  {
   "cell_type": "code",
   "execution_count": 9,
   "id": "2035167f-ac0c-41f9-9535-7017338b53b5",
   "metadata": {},
   "outputs": [
    {
     "data": {
      "text/plain": [
       "8085"
      ]
     },
     "execution_count": 9,
     "metadata": {},
     "output_type": "execute_result"
    }
   ],
   "source": [
    "len(images)"
   ]
  },
  {
   "cell_type": "code",
   "execution_count": 10,
   "id": "fd0974e1-4e53-4d07-888b-97ac83ba08ad",
   "metadata": {},
   "outputs": [
    {
     "data": {
      "text/plain": [
       "0\n",
       "Rock       1815\n",
       "Pop        1681\n",
       "EDM        1587\n",
       "Country    1177\n",
       "Hip-Hop    1155\n",
       "Reggae      670\n",
       "Name: count, dtype: int64"
      ]
     },
     "execution_count": 10,
     "metadata": {},
     "output_type": "execute_result"
    }
   ],
   "source": [
    "genres_df = pd.DataFrame(genres)\n",
    "genres_df[0].value_counts()"
   ]
  },
  {
   "cell_type": "markdown",
   "id": "362763f8-f06a-4599-9af9-ad42e48d9500",
   "metadata": {},
   "source": [
    "## Preprocessing"
   ]
  },
  {
   "cell_type": "code",
   "execution_count": 11,
   "id": "52cfcdd9-9400-4e34-a137-2271ccece0e2",
   "metadata": {},
   "outputs": [],
   "source": [
    "#train_test split data\n",
    "X_train, X_test, y_train, y_test = train_test_split(images, genres, test_size=0.2, stratify=genres, random_state=SEED)"
   ]
  },
  {
   "cell_type": "code",
   "execution_count": 12,
   "id": "883df3b6-eb25-4a81-8c11-afd2e3c5135a",
   "metadata": {},
   "outputs": [],
   "source": [
    "#one hot encode genre labels for train\n",
    "genre_labels_unique = list(set(genres))\n",
    "label_to_index = {label: index for index, label in enumerate(genre_labels_unique)}\n",
    "y_train_num_labels = [label_to_index[label] for label in y_train]\n",
    "y_train_one_hot = to_categorical(y_train_num_labels)"
   ]
  },
  {
   "cell_type": "code",
   "execution_count": 13,
   "id": "69809b27-2747-4f61-b5cc-29867027522b",
   "metadata": {},
   "outputs": [],
   "source": [
    "#one hot encode genre labels for test\n",
    "y_test_num_labels = [label_to_index[label] for label in y_test]\n",
    "y_test_one_hot = to_categorical(y_test_num_labels)"
   ]
  },
  {
   "cell_type": "code",
   "execution_count": 29,
   "id": "1b3923d2-43d0-488f-bfb5-e81757242338",
   "metadata": {},
   "outputs": [],
   "source": [
    "X_train = np.array(X_train)\n",
    "X_test = np.array(X_test)"
   ]
  },
  {
   "cell_type": "code",
   "execution_count": 30,
   "id": "97d487a6-c4fa-4eb1-868b-0fba5c69b1d1",
   "metadata": {},
   "outputs": [
    {
     "data": {
      "text/plain": [
       "(6468, 64, 64, 4)"
      ]
     },
     "execution_count": 30,
     "metadata": {},
     "output_type": "execute_result"
    }
   ],
   "source": [
    "np.shape(X_train)"
   ]
  },
  {
   "cell_type": "code",
   "execution_count": 31,
   "id": "800eabab-b33e-40e6-940e-683cfb964f53",
   "metadata": {},
   "outputs": [
    {
     "data": {
      "text/plain": [
       "(6468, 6)"
      ]
     },
     "execution_count": 31,
     "metadata": {},
     "output_type": "execute_result"
    }
   ],
   "source": [
    "np.shape(y_train_one_hot)"
   ]
  },
  {
   "cell_type": "markdown",
   "id": "66b5b6fa-20c6-4620-b55a-5ceeba0902e6",
   "metadata": {},
   "source": [
    "## Modeling"
   ]
  },
  {
   "cell_type": "markdown",
   "id": "902d231f-e1af-4922-889e-5c288c63fd00",
   "metadata": {},
   "source": [
    "### Baseline CNN"
   ]
  },
  {
   "cell_type": "code",
   "execution_count": 32,
   "id": "824adc4d-2c37-43a6-9acd-c247753c7485",
   "metadata": {},
   "outputs": [],
   "source": [
    "model = Sequential()\n",
    "# define 3x3 filter window sizes. Create 32 filters.\n",
    "# COv2D input shape =(image_height, image_width, color_channels) for each image\n",
    "model.add(Conv2D(filters=32,\n",
    "                        kernel_size=(4, 4),\n",
    "                        activation='relu',\n",
    "                        input_shape=(64, 64, 4)))\n",
    "# max pool in 2x2 window\n",
    "model.add(MaxPooling2D(pool_size=(2, 2)))\n",
    "\n",
    "# transition to dense fully-connected part of network\n",
    "model.add(Flatten())\n",
    "model.add(Dense(64, activation='relu'))\n",
    "model.add(Dense(6, activation='softmax'))"
   ]
  },
  {
   "cell_type": "code",
   "execution_count": 33,
   "id": "00957564-9904-4972-b0d3-4cc8d3fbea2d",
   "metadata": {},
   "outputs": [],
   "source": [
    "model.compile(optimizer='adam', loss='categorical_crossentropy',  metrics=['accuracy'])"
   ]
  },
  {
   "cell_type": "code",
   "execution_count": 36,
   "id": "3a955d1a-c44f-46a7-84ee-12bea6aa3a97",
   "metadata": {},
   "outputs": [
    {
     "name": "stdout",
     "output_type": "stream",
     "text": [
      "Epoch 1/20\n",
      "162/162 - 2s - loss: 0.6803 - accuracy: 0.7615 - val_loss: 0.7054 - val_accuracy: 0.7287 - 2s/epoch - 15ms/step\n",
      "Epoch 2/20\n",
      "162/162 - 2s - loss: 0.6181 - accuracy: 0.7899 - val_loss: 0.6969 - val_accuracy: 0.7411 - 2s/epoch - 14ms/step\n",
      "Epoch 3/20\n",
      "162/162 - 2s - loss: 0.5642 - accuracy: 0.8158 - val_loss: 0.7473 - val_accuracy: 0.7156 - 2s/epoch - 14ms/step\n",
      "Epoch 4/20\n",
      "162/162 - 2s - loss: 0.5132 - accuracy: 0.8284 - val_loss: 0.8269 - val_accuracy: 0.6824 - 2s/epoch - 14ms/step\n",
      "Epoch 5/20\n",
      "162/162 - 2s - loss: 0.4735 - accuracy: 0.8496 - val_loss: 0.8291 - val_accuracy: 0.6909 - 2s/epoch - 14ms/step\n",
      "Epoch 6/20\n",
      "162/162 - 2s - loss: 0.4303 - accuracy: 0.8680 - val_loss: 0.8828 - val_accuracy: 0.6731 - 2s/epoch - 14ms/step\n",
      "Epoch 7/20\n",
      "162/162 - 2s - loss: 0.3683 - accuracy: 0.8893 - val_loss: 0.8527 - val_accuracy: 0.6839 - 2s/epoch - 14ms/step\n",
      "Epoch 8/20\n",
      "162/162 - 2s - loss: 0.3340 - accuracy: 0.9030 - val_loss: 0.9156 - val_accuracy: 0.6669 - 2s/epoch - 14ms/step\n",
      "Epoch 9/20\n",
      "162/162 - 2s - loss: 0.2923 - accuracy: 0.9188 - val_loss: 0.9354 - val_accuracy: 0.6600 - 2s/epoch - 14ms/step\n",
      "Epoch 10/20\n",
      "162/162 - 2s - loss: 0.2791 - accuracy: 0.9215 - val_loss: 0.9519 - val_accuracy: 0.6615 - 2s/epoch - 14ms/step\n",
      "Epoch 11/20\n",
      "162/162 - 2s - loss: 0.2278 - accuracy: 0.9422 - val_loss: 0.9952 - val_accuracy: 0.6638 - 2s/epoch - 14ms/step\n",
      "Epoch 12/20\n",
      "162/162 - 2s - loss: 0.1783 - accuracy: 0.9644 - val_loss: 1.0837 - val_accuracy: 0.6484 - 2s/epoch - 14ms/step\n",
      "Epoch 13/20\n",
      "162/162 - 2s - loss: 0.1719 - accuracy: 0.9664 - val_loss: 1.1095 - val_accuracy: 0.6422 - 2s/epoch - 14ms/step\n",
      "Epoch 14/20\n",
      "162/162 - 2s - loss: 0.1319 - accuracy: 0.9772 - val_loss: 1.1345 - val_accuracy: 0.6422 - 2s/epoch - 14ms/step\n",
      "Epoch 15/20\n",
      "162/162 - 2s - loss: 0.1207 - accuracy: 0.9803 - val_loss: 1.2350 - val_accuracy: 0.6360 - 2s/epoch - 14ms/step\n",
      "Epoch 16/20\n",
      "162/162 - 2s - loss: 0.1035 - accuracy: 0.9828 - val_loss: 1.2389 - val_accuracy: 0.6345 - 2s/epoch - 14ms/step\n",
      "Epoch 17/20\n",
      "162/162 - 2s - loss: 0.0978 - accuracy: 0.9826 - val_loss: 1.2184 - val_accuracy: 0.6476 - 2s/epoch - 14ms/step\n",
      "Epoch 18/20\n",
      "162/162 - 2s - loss: 0.0893 - accuracy: 0.9863 - val_loss: 1.3030 - val_accuracy: 0.6267 - 2s/epoch - 14ms/step\n",
      "Epoch 19/20\n",
      "162/162 - 3s - loss: 0.0689 - accuracy: 0.9911 - val_loss: 1.3431 - val_accuracy: 0.6306 - 3s/epoch - 17ms/step\n",
      "Epoch 20/20\n",
      "162/162 - 2s - loss: 0.0718 - accuracy: 0.9894 - val_loss: 1.4769 - val_accuracy: 0.6175 - 2s/epoch - 15ms/step\n"
     ]
    }
   ],
   "source": [
    "history = model.fit(X_train, y_train_one_hot, epochs= 20, batch_size=32, verbose = 2, validation_split=.2)"
   ]
  },
  {
   "cell_type": "code",
   "execution_count": null,
   "id": "03fcba20-1fe3-4b3f-ac46-e311693c5b34",
   "metadata": {},
   "outputs": [],
   "source": []
  }
 ],
 "metadata": {
  "kernelspec": {
   "display_name": "learn2",
   "language": "python",
   "name": "learn2"
  },
  "language_info": {
   "codemirror_mode": {
    "name": "ipython",
    "version": 3
   },
   "file_extension": ".py",
   "mimetype": "text/x-python",
   "name": "python",
   "nbconvert_exporter": "python",
   "pygments_lexer": "ipython3",
   "version": "3.11.6"
  }
 },
 "nbformat": 4,
 "nbformat_minor": 5
}
